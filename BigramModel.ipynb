{
  "nbformat": 4,
  "nbformat_minor": 0,
  "metadata": {
    "colab": {
      "provenance": [],
      "gpuType": "T4",
      "authorship_tag": "ABX9TyN2uvQRFOSsVu66YtuXFTGP",
      "include_colab_link": true
    },
    "kernelspec": {
      "name": "python3",
      "display_name": "Python 3"
    },
    "language_info": {
      "name": "python"
    },
    "accelerator": "GPU"
  },
  "cells": [
    {
      "cell_type": "markdown",
      "metadata": {
        "id": "view-in-github",
        "colab_type": "text"
      },
      "source": [
        "<a href=\"https://colab.research.google.com/github/shusank8/BigramModel/blob/main/BigramModel.ipynb\" target=\"_parent\"><img src=\"https://colab.research.google.com/assets/colab-badge.svg\" alt=\"Open In Colab\"/></a>"
      ]
    },
    {
      "cell_type": "code",
      "execution_count": 1,
      "metadata": {
        "id": "2dKwdSHAqPmQ",
        "outputId": "ec5342d5-d46e-4a41-ccff-2cefb2710795",
        "colab": {
          "base_uri": "https://localhost:8080/"
        }
      },
      "outputs": [
        {
          "output_type": "stream",
          "name": "stdout",
          "text": [
            "BIGRAM MODEL; BY SHUSANKET BASYAL\n"
          ]
        }
      ],
      "source": [
        "print('BIGRAM MODEL; BY SHUSANKET BASYAL')"
      ]
    },
    {
      "cell_type": "code",
      "source": [
        "# LOADING THE DATASET\n",
        "# DATASET IS THE SHORT JOKES FROM KAGGLE\n",
        "import kagglehub\n",
        "path = kagglehub.dataset_download(\"abhinavmoudgil95/short-jokes\")\n",
        "\n",
        "print(\"Path to dataset files:\", path)"
      ],
      "metadata": {
        "id": "HEn38Ns0sjQh",
        "colab": {
          "base_uri": "https://localhost:8080/"
        },
        "outputId": "01ef5722-3867-4299-83c9-4b5df22d08a2"
      },
      "execution_count": 2,
      "outputs": [
        {
          "output_type": "stream",
          "name": "stdout",
          "text": [
            "Warning: Looks like you're using an outdated `kagglehub` version (installed: 0.3.6), please consider upgrading to the latest version (0.3.7).\n",
            "Downloading from https://www.kaggle.com/api/v1/datasets/download/abhinavmoudgil95/short-jokes?dataset_version_number=1...\n"
          ]
        },
        {
          "output_type": "stream",
          "name": "stderr",
          "text": [
            "100%|██████████| 9.82M/9.82M [00:00<00:00, 41.0MB/s]"
          ]
        },
        {
          "output_type": "stream",
          "name": "stdout",
          "text": [
            "Extracting files...\n"
          ]
        },
        {
          "output_type": "stream",
          "name": "stderr",
          "text": [
            "\n"
          ]
        },
        {
          "output_type": "stream",
          "name": "stdout",
          "text": [
            "Path to dataset files: /root/.cache/kagglehub/datasets/abhinavmoudgil95/short-jokes/versions/1\n"
          ]
        }
      ]
    },
    {
      "cell_type": "code",
      "source": [
        "# IMPORTING THE NECESSARY LIBARIES\n",
        "\n",
        "import os\n",
        "import pandas as pd\n",
        "import torch\n",
        "import torch.nn as nn\n",
        "from torch.nn import functional as F"
      ],
      "metadata": {
        "id": "8IleX5Ebq4Ob"
      },
      "execution_count": 3,
      "outputs": []
    },
    {
      "cell_type": "code",
      "source": [
        "# LOOKING WHERE THE FILES HAS BEEN DOWNLOADED\n",
        "os.listdir(path)"
      ],
      "metadata": {
        "colab": {
          "base_uri": "https://localhost:8080/"
        },
        "id": "BHve0XFLq6Ks",
        "outputId": "89b8bbdc-f5fe-45b3-e645-bebb30db0baf"
      },
      "execution_count": 4,
      "outputs": [
        {
          "output_type": "execute_result",
          "data": {
            "text/plain": [
              "['shortjokes.csv']"
            ]
          },
          "metadata": {},
          "execution_count": 4
        }
      ]
    },
    {
      "cell_type": "code",
      "source": [
        "# LOADING THE FILE INTO DF\n",
        "df = pd.read_csv(path+\"/shortjokes.csv\")"
      ],
      "metadata": {
        "id": "ircMoXVoq7cr"
      },
      "execution_count": 5,
      "outputs": []
    },
    {
      "cell_type": "code",
      "source": [
        "# INSPECTING THE FILE\n",
        "df.head()"
      ],
      "metadata": {
        "colab": {
          "base_uri": "https://localhost:8080/",
          "height": 206
        },
        "id": "jggvrEwdq-GY",
        "outputId": "eb8de18c-edd7-41b5-d298-10480b613c0b"
      },
      "execution_count": 6,
      "outputs": [
        {
          "output_type": "execute_result",
          "data": {
            "text/plain": [
              "   ID                                               Joke\n",
              "0   1  [me narrating a documentary about narrators] \"...\n",
              "1   2  Telling my daughter garlic is good for you. Go...\n",
              "2   3  I've been going through a really rough period ...\n",
              "3   4  If I could have dinner with anyone, dead or al...\n",
              "4   5     Two guys walk into a bar. The third guy ducks."
            ],
            "text/html": [
              "\n",
              "  <div id=\"df-5917e377-ea0b-44d8-955b-bb31eb6b6dd5\" class=\"colab-df-container\">\n",
              "    <div>\n",
              "<style scoped>\n",
              "    .dataframe tbody tr th:only-of-type {\n",
              "        vertical-align: middle;\n",
              "    }\n",
              "\n",
              "    .dataframe tbody tr th {\n",
              "        vertical-align: top;\n",
              "    }\n",
              "\n",
              "    .dataframe thead th {\n",
              "        text-align: right;\n",
              "    }\n",
              "</style>\n",
              "<table border=\"1\" class=\"dataframe\">\n",
              "  <thead>\n",
              "    <tr style=\"text-align: right;\">\n",
              "      <th></th>\n",
              "      <th>ID</th>\n",
              "      <th>Joke</th>\n",
              "    </tr>\n",
              "  </thead>\n",
              "  <tbody>\n",
              "    <tr>\n",
              "      <th>0</th>\n",
              "      <td>1</td>\n",
              "      <td>[me narrating a documentary about narrators] \"...</td>\n",
              "    </tr>\n",
              "    <tr>\n",
              "      <th>1</th>\n",
              "      <td>2</td>\n",
              "      <td>Telling my daughter garlic is good for you. Go...</td>\n",
              "    </tr>\n",
              "    <tr>\n",
              "      <th>2</th>\n",
              "      <td>3</td>\n",
              "      <td>I've been going through a really rough period ...</td>\n",
              "    </tr>\n",
              "    <tr>\n",
              "      <th>3</th>\n",
              "      <td>4</td>\n",
              "      <td>If I could have dinner with anyone, dead or al...</td>\n",
              "    </tr>\n",
              "    <tr>\n",
              "      <th>4</th>\n",
              "      <td>5</td>\n",
              "      <td>Two guys walk into a bar. The third guy ducks.</td>\n",
              "    </tr>\n",
              "  </tbody>\n",
              "</table>\n",
              "</div>\n",
              "    <div class=\"colab-df-buttons\">\n",
              "\n",
              "  <div class=\"colab-df-container\">\n",
              "    <button class=\"colab-df-convert\" onclick=\"convertToInteractive('df-5917e377-ea0b-44d8-955b-bb31eb6b6dd5')\"\n",
              "            title=\"Convert this dataframe to an interactive table.\"\n",
              "            style=\"display:none;\">\n",
              "\n",
              "  <svg xmlns=\"http://www.w3.org/2000/svg\" height=\"24px\" viewBox=\"0 -960 960 960\">\n",
              "    <path d=\"M120-120v-720h720v720H120Zm60-500h600v-160H180v160Zm220 220h160v-160H400v160Zm0 220h160v-160H400v160ZM180-400h160v-160H180v160Zm440 0h160v-160H620v160ZM180-180h160v-160H180v160Zm440 0h160v-160H620v160Z\"/>\n",
              "  </svg>\n",
              "    </button>\n",
              "\n",
              "  <style>\n",
              "    .colab-df-container {\n",
              "      display:flex;\n",
              "      gap: 12px;\n",
              "    }\n",
              "\n",
              "    .colab-df-convert {\n",
              "      background-color: #E8F0FE;\n",
              "      border: none;\n",
              "      border-radius: 50%;\n",
              "      cursor: pointer;\n",
              "      display: none;\n",
              "      fill: #1967D2;\n",
              "      height: 32px;\n",
              "      padding: 0 0 0 0;\n",
              "      width: 32px;\n",
              "    }\n",
              "\n",
              "    .colab-df-convert:hover {\n",
              "      background-color: #E2EBFA;\n",
              "      box-shadow: 0px 1px 2px rgba(60, 64, 67, 0.3), 0px 1px 3px 1px rgba(60, 64, 67, 0.15);\n",
              "      fill: #174EA6;\n",
              "    }\n",
              "\n",
              "    .colab-df-buttons div {\n",
              "      margin-bottom: 4px;\n",
              "    }\n",
              "\n",
              "    [theme=dark] .colab-df-convert {\n",
              "      background-color: #3B4455;\n",
              "      fill: #D2E3FC;\n",
              "    }\n",
              "\n",
              "    [theme=dark] .colab-df-convert:hover {\n",
              "      background-color: #434B5C;\n",
              "      box-shadow: 0px 1px 3px 1px rgba(0, 0, 0, 0.15);\n",
              "      filter: drop-shadow(0px 1px 2px rgba(0, 0, 0, 0.3));\n",
              "      fill: #FFFFFF;\n",
              "    }\n",
              "  </style>\n",
              "\n",
              "    <script>\n",
              "      const buttonEl =\n",
              "        document.querySelector('#df-5917e377-ea0b-44d8-955b-bb31eb6b6dd5 button.colab-df-convert');\n",
              "      buttonEl.style.display =\n",
              "        google.colab.kernel.accessAllowed ? 'block' : 'none';\n",
              "\n",
              "      async function convertToInteractive(key) {\n",
              "        const element = document.querySelector('#df-5917e377-ea0b-44d8-955b-bb31eb6b6dd5');\n",
              "        const dataTable =\n",
              "          await google.colab.kernel.invokeFunction('convertToInteractive',\n",
              "                                                    [key], {});\n",
              "        if (!dataTable) return;\n",
              "\n",
              "        const docLinkHtml = 'Like what you see? Visit the ' +\n",
              "          '<a target=\"_blank\" href=https://colab.research.google.com/notebooks/data_table.ipynb>data table notebook</a>'\n",
              "          + ' to learn more about interactive tables.';\n",
              "        element.innerHTML = '';\n",
              "        dataTable['output_type'] = 'display_data';\n",
              "        await google.colab.output.renderOutput(dataTable, element);\n",
              "        const docLink = document.createElement('div');\n",
              "        docLink.innerHTML = docLinkHtml;\n",
              "        element.appendChild(docLink);\n",
              "      }\n",
              "    </script>\n",
              "  </div>\n",
              "\n",
              "\n",
              "<div id=\"df-d63b6ca3-0702-4a39-b980-b4d42ada8ab4\">\n",
              "  <button class=\"colab-df-quickchart\" onclick=\"quickchart('df-d63b6ca3-0702-4a39-b980-b4d42ada8ab4')\"\n",
              "            title=\"Suggest charts\"\n",
              "            style=\"display:none;\">\n",
              "\n",
              "<svg xmlns=\"http://www.w3.org/2000/svg\" height=\"24px\"viewBox=\"0 0 24 24\"\n",
              "     width=\"24px\">\n",
              "    <g>\n",
              "        <path d=\"M19 3H5c-1.1 0-2 .9-2 2v14c0 1.1.9 2 2 2h14c1.1 0 2-.9 2-2V5c0-1.1-.9-2-2-2zM9 17H7v-7h2v7zm4 0h-2V7h2v10zm4 0h-2v-4h2v4z\"/>\n",
              "    </g>\n",
              "</svg>\n",
              "  </button>\n",
              "\n",
              "<style>\n",
              "  .colab-df-quickchart {\n",
              "      --bg-color: #E8F0FE;\n",
              "      --fill-color: #1967D2;\n",
              "      --hover-bg-color: #E2EBFA;\n",
              "      --hover-fill-color: #174EA6;\n",
              "      --disabled-fill-color: #AAA;\n",
              "      --disabled-bg-color: #DDD;\n",
              "  }\n",
              "\n",
              "  [theme=dark] .colab-df-quickchart {\n",
              "      --bg-color: #3B4455;\n",
              "      --fill-color: #D2E3FC;\n",
              "      --hover-bg-color: #434B5C;\n",
              "      --hover-fill-color: #FFFFFF;\n",
              "      --disabled-bg-color: #3B4455;\n",
              "      --disabled-fill-color: #666;\n",
              "  }\n",
              "\n",
              "  .colab-df-quickchart {\n",
              "    background-color: var(--bg-color);\n",
              "    border: none;\n",
              "    border-radius: 50%;\n",
              "    cursor: pointer;\n",
              "    display: none;\n",
              "    fill: var(--fill-color);\n",
              "    height: 32px;\n",
              "    padding: 0;\n",
              "    width: 32px;\n",
              "  }\n",
              "\n",
              "  .colab-df-quickchart:hover {\n",
              "    background-color: var(--hover-bg-color);\n",
              "    box-shadow: 0 1px 2px rgba(60, 64, 67, 0.3), 0 1px 3px 1px rgba(60, 64, 67, 0.15);\n",
              "    fill: var(--button-hover-fill-color);\n",
              "  }\n",
              "\n",
              "  .colab-df-quickchart-complete:disabled,\n",
              "  .colab-df-quickchart-complete:disabled:hover {\n",
              "    background-color: var(--disabled-bg-color);\n",
              "    fill: var(--disabled-fill-color);\n",
              "    box-shadow: none;\n",
              "  }\n",
              "\n",
              "  .colab-df-spinner {\n",
              "    border: 2px solid var(--fill-color);\n",
              "    border-color: transparent;\n",
              "    border-bottom-color: var(--fill-color);\n",
              "    animation:\n",
              "      spin 1s steps(1) infinite;\n",
              "  }\n",
              "\n",
              "  @keyframes spin {\n",
              "    0% {\n",
              "      border-color: transparent;\n",
              "      border-bottom-color: var(--fill-color);\n",
              "      border-left-color: var(--fill-color);\n",
              "    }\n",
              "    20% {\n",
              "      border-color: transparent;\n",
              "      border-left-color: var(--fill-color);\n",
              "      border-top-color: var(--fill-color);\n",
              "    }\n",
              "    30% {\n",
              "      border-color: transparent;\n",
              "      border-left-color: var(--fill-color);\n",
              "      border-top-color: var(--fill-color);\n",
              "      border-right-color: var(--fill-color);\n",
              "    }\n",
              "    40% {\n",
              "      border-color: transparent;\n",
              "      border-right-color: var(--fill-color);\n",
              "      border-top-color: var(--fill-color);\n",
              "    }\n",
              "    60% {\n",
              "      border-color: transparent;\n",
              "      border-right-color: var(--fill-color);\n",
              "    }\n",
              "    80% {\n",
              "      border-color: transparent;\n",
              "      border-right-color: var(--fill-color);\n",
              "      border-bottom-color: var(--fill-color);\n",
              "    }\n",
              "    90% {\n",
              "      border-color: transparent;\n",
              "      border-bottom-color: var(--fill-color);\n",
              "    }\n",
              "  }\n",
              "</style>\n",
              "\n",
              "  <script>\n",
              "    async function quickchart(key) {\n",
              "      const quickchartButtonEl =\n",
              "        document.querySelector('#' + key + ' button');\n",
              "      quickchartButtonEl.disabled = true;  // To prevent multiple clicks.\n",
              "      quickchartButtonEl.classList.add('colab-df-spinner');\n",
              "      try {\n",
              "        const charts = await google.colab.kernel.invokeFunction(\n",
              "            'suggestCharts', [key], {});\n",
              "      } catch (error) {\n",
              "        console.error('Error during call to suggestCharts:', error);\n",
              "      }\n",
              "      quickchartButtonEl.classList.remove('colab-df-spinner');\n",
              "      quickchartButtonEl.classList.add('colab-df-quickchart-complete');\n",
              "    }\n",
              "    (() => {\n",
              "      let quickchartButtonEl =\n",
              "        document.querySelector('#df-d63b6ca3-0702-4a39-b980-b4d42ada8ab4 button');\n",
              "      quickchartButtonEl.style.display =\n",
              "        google.colab.kernel.accessAllowed ? 'block' : 'none';\n",
              "    })();\n",
              "  </script>\n",
              "</div>\n",
              "\n",
              "    </div>\n",
              "  </div>\n"
            ],
            "application/vnd.google.colaboratory.intrinsic+json": {
              "type": "dataframe",
              "variable_name": "df"
            }
          },
          "metadata": {},
          "execution_count": 6
        }
      ]
    },
    {
      "cell_type": "code",
      "source": [
        "# GETTING ALL THE VALUES IN JOKE COLUMN => RETURNS A LIST\n",
        "text = df['Joke'].values"
      ],
      "metadata": {
        "id": "cUEg1C27rG1N"
      },
      "execution_count": 7,
      "outputs": []
    },
    {
      "cell_type": "code",
      "source": [
        "# JOINING ALL THE STR VAL IN THE LIST TO GET A SINGLE STR\n",
        "text = \"\".join(text)"
      ],
      "metadata": {
        "id": "6ZPv-tXqrMWs"
      },
      "execution_count": 8,
      "outputs": []
    },
    {
      "cell_type": "code",
      "source": [
        "# GETTING THE UNIQUE CHAR PRESENT IN THE DATASET AND CREATING A VARIABLE VOCAB_SIZE THAT STORES THE LEN OF THE UNIQUE ELEMENTS\n",
        "char = sorted(list(set(text)))\n",
        "vocab_size = len(char)"
      ],
      "metadata": {
        "id": "FaxXi51zrQu1"
      },
      "execution_count": 9,
      "outputs": []
    },
    {
      "cell_type": "code",
      "source": [
        "# SIMPLE ENCODER, DECODER\n",
        "# CREATING A HASMAP THAT MAPS STRING TO ID AND VICE VERSA\n",
        "stringtoid = {sti:i for i,sti in enumerate(char)}\n",
        "idtostring = {i:sti for i, sti in enumerate(char)}"
      ],
      "metadata": {
        "id": "wVHXafS8raAm"
      },
      "execution_count": 10,
      "outputs": []
    },
    {
      "cell_type": "code",
      "source": [
        "# USING THE CREATED HASMAP TO CREATER ENCODER AND DECODER\n",
        "encode = lambda x : [stringtoid[i] for i in x]\n",
        "decode = lambda x: \"\".join([idtostring[i] for i in x])"
      ],
      "metadata": {
        "id": "n5EgDRy5rnQ3"
      },
      "execution_count": 11,
      "outputs": []
    },
    {
      "cell_type": "code",
      "source": [
        "# TESTING IF THE FUNCTIONALITY WORKS FINE\n",
        "decode(encode(\"hello world\"))"
      ],
      "metadata": {
        "colab": {
          "base_uri": "https://localhost:8080/",
          "height": 35
        },
        "id": "bUcc6zmJru_y",
        "outputId": "57ea1f36-7650-432b-b59a-6c36eb0e1577"
      },
      "execution_count": 12,
      "outputs": [
        {
          "output_type": "execute_result",
          "data": {
            "text/plain": [
              "'hello world'"
            ],
            "application/vnd.google.colaboratory.intrinsic+json": {
              "type": "string"
            }
          },
          "metadata": {},
          "execution_count": 12
        }
      ]
    },
    {
      "cell_type": "code",
      "source": [
        "# ENCODING THE TEXT\n",
        "text = torch.tensor(encode(text), dtype=torch.long)"
      ],
      "metadata": {
        "id": "U7wapWMHr2YH"
      },
      "execution_count": 13,
      "outputs": []
    },
    {
      "cell_type": "code",
      "source": [
        "# CREATING TRAIN AND VAL SIZE\n",
        "n = int(0.8*len(text))\n",
        "train = text[0:n]\n",
        "val = text[n:]"
      ],
      "metadata": {
        "id": "PXVJaKccsV90"
      },
      "execution_count": 14,
      "outputs": []
    },
    {
      "cell_type": "code",
      "source": [
        "# This function creates batches of data for training or validation.\n",
        "# It selects random starting points, extracts sequences of a given length (block_size), and prepares input (x) and target (y) tensors for a model.\n",
        "\n",
        "def generate_batch(split, batch_size, block_size):\n",
        "  data = train if split =='train' else val\n",
        "  idx = torch.randint(0, len(data)-block_size, (batch_size, ))\n",
        "  x = torch.stack([data[i:i+block_size] for i in idx])\n",
        "  y = torch.stack([data[i+1:i+1+block_size] for i in idx])\n",
        "  return x,y\n"
      ],
      "metadata": {
        "id": "4jRALkNVshaH"
      },
      "execution_count": 15,
      "outputs": []
    },
    {
      "cell_type": "code",
      "source": [
        "# This function estimates the model's loss on the validation set by running 64 mini-batches through it.\n",
        "# It calculates cross-entropy loss for each batch and returns the average loss, temporarily switching the model to evaluation mode for accurate assessment.\n",
        "\n",
        "def estimate_loss(model, vocab_size):\n",
        "\n",
        "  model.eval()\n",
        "\n",
        "  losses = torch.zeros(64)\n",
        "  for _ in range(64):\n",
        "    x,y = generate_batch('val', batch_size=128, block_size=2)\n",
        "    x = x.to('cuda')\n",
        "    y = y.to('cuda')\n",
        "    logits = model(x)\n",
        "    logits = logits.view(-1, vocab_size)\n",
        "    y = y.view(-1)\n",
        "    loss = F.cross_entropy(logits, y)\n",
        "    losses[_] = loss.item()\n",
        "  model.train()\n",
        "  return losses.mean()\n"
      ],
      "metadata": {
        "id": "GlB7lRrloZR3"
      },
      "execution_count": 16,
      "outputs": []
    },
    {
      "cell_type": "code",
      "source": [
        "# This defines a simple bigram language model using embeddings.\n",
        "# Each token is mapped to a vocabulary-sized embedding, and the model directly returns logits for predicting the next token.\n",
        "\n",
        "class BigramModel(nn.Module):\n",
        "\n",
        "  def __init__(self,vocab_size):\n",
        "\n",
        "    super().__init__()\n",
        "    self.vocab_size = vocab_size\n",
        "    self.embedding = nn.Embedding(self.vocab_size, self.vocab_size)\n",
        "\n",
        "  def forward(self, x):\n",
        "\n",
        "    logits = self.embedding(x)\n",
        "    return logits\n",
        "\n",
        "\n"
      ],
      "metadata": {
        "id": "PIbEG0VdmXSg"
      },
      "execution_count": 17,
      "outputs": []
    },
    {
      "cell_type": "code",
      "source": [
        "# This initializes the BigramModel, moves it to the GPU (cuda), and sets up the AdamW optimizer with a learning rate of 0.001 to update the model’s parameters during training.\n",
        "\n",
        "model = BigramModel(vocab_size)\n",
        "model = model.to(\"cuda\")\n",
        "optimizer = torch.optim.AdamW(model.parameters(), lr = 0.001)"
      ],
      "metadata": {
        "id": "vCniqP3kmzBM"
      },
      "execution_count": 18,
      "outputs": []
    },
    {
      "cell_type": "code",
      "source": [
        "# This function trains the BigramModel for a given number of epochs.\n",
        "# It generates training batches, computes the loss using cross-entropy, updates the model’s weights using backpropagation, and periodically estimates and\n",
        "# prints the validation loss every 10 epochs.\n",
        "\n",
        "\n",
        "def train_model(epochs, batch_size):\n",
        "  for _ in range(epochs):\n",
        "    x,y = generate_batch('train', batch_size = 128, block_size=2)\n",
        "    x = x.to('cuda')\n",
        "    y = y.to(\"cuda\")\n",
        "    logits = model(x)\n",
        "    logits = logits.view(-1, vocab_size)\n",
        "    y = y.view(-1)\n",
        "    loss = F.cross_entropy(logits, y)\n",
        "    optimizer.zero_grad(set_to_none=True)\n",
        "    loss.backward()\n",
        "    optimizer.step()\n",
        "    if _ % 200==0:\n",
        "      lo = estimate_loss(model, vocab_size)\n",
        "      print(\"step => \", _, \"loss=> \", lo.item())"
      ],
      "metadata": {
        "id": "38w-wTGNnGbP"
      },
      "execution_count": 22,
      "outputs": []
    },
    {
      "cell_type": "code",
      "source": [
        "# training the model with 100 epochs and 128 batch_size\n",
        "epochs = 10000\n",
        "batch_size = 128\n",
        "train_model(epochs, batch_size)"
      ],
      "metadata": {
        "colab": {
          "base_uri": "https://localhost:8080/"
        },
        "id": "qhJ-aBg0nbZX",
        "outputId": "bc32991f-c8a7-4346-ea2c-9e758c916427"
      },
      "execution_count": 25,
      "outputs": [
        {
          "output_type": "stream",
          "name": "stdout",
          "text": [
            "step =>  0 loss=>  2.592275619506836\n",
            "step =>  200 loss=>  2.5770485401153564\n",
            "step =>  400 loss=>  2.5840587615966797\n",
            "step =>  600 loss=>  2.5916900634765625\n",
            "step =>  800 loss=>  2.575892210006714\n",
            "step =>  1000 loss=>  2.5913455486297607\n",
            "step =>  1200 loss=>  2.5613486766815186\n",
            "step =>  1400 loss=>  2.5821533203125\n",
            "step =>  1600 loss=>  2.582427740097046\n",
            "step =>  1800 loss=>  2.578295946121216\n",
            "step =>  2000 loss=>  2.588944435119629\n",
            "step =>  2200 loss=>  2.577118396759033\n",
            "step =>  2400 loss=>  2.58915114402771\n",
            "step =>  2600 loss=>  2.5858139991760254\n",
            "step =>  2800 loss=>  2.5824592113494873\n",
            "step =>  3000 loss=>  2.5884053707122803\n",
            "step =>  3200 loss=>  2.5680348873138428\n",
            "step =>  3400 loss=>  2.5751266479492188\n",
            "step =>  3600 loss=>  2.5509750843048096\n",
            "step =>  3800 loss=>  2.5809903144836426\n",
            "step =>  4000 loss=>  2.5796337127685547\n",
            "step =>  4200 loss=>  2.5627784729003906\n",
            "step =>  4400 loss=>  2.567249059677124\n",
            "step =>  4600 loss=>  2.568666458129883\n",
            "step =>  4800 loss=>  2.5716748237609863\n",
            "step =>  5000 loss=>  2.5822956562042236\n",
            "step =>  5200 loss=>  2.572732925415039\n",
            "step =>  5400 loss=>  2.5677406787872314\n",
            "step =>  5600 loss=>  2.602912187576294\n",
            "step =>  5800 loss=>  2.571523666381836\n",
            "step =>  6000 loss=>  2.58109712600708\n",
            "step =>  6200 loss=>  2.592302083969116\n",
            "step =>  6400 loss=>  2.5645484924316406\n",
            "step =>  6600 loss=>  2.5747132301330566\n",
            "step =>  6800 loss=>  2.5796289443969727\n",
            "step =>  7000 loss=>  2.563632011413574\n",
            "step =>  7200 loss=>  2.570620059967041\n",
            "step =>  7400 loss=>  2.5783205032348633\n",
            "step =>  7600 loss=>  2.5789437294006348\n",
            "step =>  7800 loss=>  2.5613622665405273\n",
            "step =>  8000 loss=>  2.568965435028076\n",
            "step =>  8200 loss=>  2.585444927215576\n",
            "step =>  8400 loss=>  2.5893540382385254\n",
            "step =>  8600 loss=>  2.569395065307617\n",
            "step =>  8800 loss=>  2.5543336868286133\n",
            "step =>  9000 loss=>  2.5760834217071533\n",
            "step =>  9200 loss=>  2.5743775367736816\n",
            "step =>  9400 loss=>  2.585200786590576\n",
            "step =>  9600 loss=>  2.5709891319274902\n",
            "step =>  9800 loss=>  2.5578620433807373\n"
          ]
        }
      ]
    },
    {
      "cell_type": "code",
      "source": [
        "# This function generates tokens using the trained model.\n",
        "# Starting from a given input, it predicts the next token, samples from the probability distribution, appends it to the sequence,\n",
        "# and continues for max_tok steps without updating gradients.\n",
        "\n",
        "def generatetok(model, start, max_tok):\n",
        "  with torch.no_grad():\n",
        "    for _ in range(max_tok):\n",
        "\n",
        "      logits = model(start)\n",
        "      prob = logits[:,-1,:]\n",
        "      prob = F.softmax(prob, dim=-1)\n",
        "      lo = torch.multinomial(prob, num_samples=1)\n",
        "      start = torch.cat([start, lo], dim=1)\n",
        "  return start\n"
      ],
      "metadata": {
        "id": "pno2apaco_ZE"
      },
      "execution_count": 26,
      "outputs": []
    },
    {
      "cell_type": "code",
      "source": [
        "# INITIALIZING THE START AS 0\n",
        "start = torch.zeros([1,1], device='cuda',dtype=torch.long)"
      ],
      "metadata": {
        "id": "V_r35o8BqalE"
      },
      "execution_count": 27,
      "outputs": []
    },
    {
      "cell_type": "code",
      "source": [
        "# GENERATING FROM THE MODEL\n",
        "out = generatetok(model, start, 200)"
      ],
      "metadata": {
        "id": "-xuNUv9CqjTr"
      },
      "execution_count": 28,
      "outputs": []
    },
    {
      "cell_type": "code",
      "source": [
        "out.shape"
      ],
      "metadata": {
        "id": "DsRmnGEFqk_2",
        "colab": {
          "base_uri": "https://localhost:8080/"
        },
        "outputId": "f5e73f27-c8e5-412b-ef1e-d0de6963fb9d"
      },
      "execution_count": 29,
      "outputs": [
        {
          "output_type": "execute_result",
          "data": {
            "text/plain": [
              "torch.Size([1, 201])"
            ]
          },
          "metadata": {},
          "execution_count": 29
        }
      ]
    },
    {
      "cell_type": "code",
      "source": [
        "# output\n",
        "decode(out[0].tolist())"
      ],
      "metadata": {
        "colab": {
          "base_uri": "https://localhost:8080/",
          "height": 53
        },
        "id": "BKaaPUkv6UIN",
        "outputId": "dbdb5fde-54f5-4eb0-83f2-73e6486f431c"
      },
      "execution_count": 30,
      "outputs": [
        {
          "output_type": "execute_result",
          "data": {
            "text/plain": [
              "'\\x08GUhaditheousin?Macilss are ppuyobal\"pik d ayoune O mo d \" \"M moup: whergisied four Wherorr IRuepousongh be wino Sollind haisto be. yos thee yofthayofut es, whemWhe p sn Me wherouimen\\'lled hany. \"Acabe'"
            ],
            "application/vnd.google.colaboratory.intrinsic+json": {
              "type": "string"
            }
          },
          "metadata": {},
          "execution_count": 30
        }
      ]
    },
    {
      "cell_type": "code",
      "source": [],
      "metadata": {
        "id": "Bx_kv57m6WNB"
      },
      "execution_count": null,
      "outputs": []
    }
  ]
}